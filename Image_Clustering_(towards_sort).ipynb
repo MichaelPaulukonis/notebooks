{
  "nbformat": 4,
  "nbformat_minor": 5,
  "metadata": {
    "kernelspec": {
      "display_name": "Python 3",
      "language": "python",
      "name": "python3"
    },
    "language_info": {
      "codemirror_mode": {
        "name": "ipython",
        "version": 3
      },
      "file_extension": ".py",
      "mimetype": "text/x-python",
      "name": "python",
      "nbconvert_exporter": "python",
      "pygments_lexer": "ipython3",
      "version": "3.7.6"
    },
    "colab": {
      "name": "Image_Clustering (towards sort).ipynb",
      "provenance": [],
      "collapsed_sections": [],
      "include_colab_link": true
    },
    "accelerator": "GPU"
  },
  "cells": [
    {
      "cell_type": "markdown",
      "metadata": {
        "id": "view-in-github",
        "colab_type": "text"
      },
      "source": [
        "<a href=\"https://colab.research.google.com/github/MichaelPaulukonis/notebooks/blob/main/Image_Clustering_(towards_sort).ipynb\" target=\"_parent\"><img src=\"https://colab.research.google.com/assets/colab-badge.svg\" alt=\"Open In Colab\"/></a>"
      ]
    },
    {
      "cell_type": "markdown",
      "metadata": {
        "id": "entitled-exploration"
      },
      "source": [
        "# Image Clustering\n",
        "\n",
        "This example shows how [SentenceTransformers](https://www.sbert.net) can be used for Image Clustering.\n",
        "\n",
        "As model, we use the [OpenAI CLIP Model](https://github.com/openai/CLIP), which was trained on a large set of images and image alt texts.\n",
        "\n",
        "As a source for fotos, we use the [Unsplash Dataset Lite](https://unsplash.com/data), which contains about 25k images. See the [License](https://unsplash.com/license) about the Unsplash images. \n",
        "\n",
        "We encode all images into vector space and then find high density regions in this vector space, i.e., regions where the images are fairly similar."
      ],
      "id": "entitled-exploration"
    },
    {
      "cell_type": "code",
      "metadata": {
        "id": "ZzX46t4NUdey"
      },
      "source": [
        "!pip install sentence-transformers"
      ],
      "id": "ZzX46t4NUdey",
      "execution_count": null,
      "outputs": []
    },
    {
      "cell_type": "code",
      "metadata": {
        "id": "acoustic-pastor"
      },
      "source": [
        "from sentence_transformers import SentenceTransformer, util\n",
        "from PIL import Image\n",
        "import glob\n",
        "import torch\n",
        "import pickle\n",
        "import zipfile\n",
        "from IPython.display import display\n",
        "from IPython.display import Image as IPImage\n",
        "import os\n",
        "from tqdm.autonotebook import tqdm\n",
        "\n",
        "#First, we load the respective CLIP model\n",
        "model = SentenceTransformer('clip-ViT-B-32')\n"
      ],
      "id": "acoustic-pastor",
      "execution_count": null,
      "outputs": []
    },
    {
      "cell_type": "code",
      "metadata": {
        "id": "major-injury"
      },
      "source": [
        "# Next, we get about 25k images from Unsplash \n",
        "img_folder = 'photos/'\n",
        "if not os.path.exists(img_folder) or len(os.listdir(img_folder)) == 0:\n",
        "    os.makedirs(img_folder, exist_ok=True)\n",
        "    \n",
        "    photo_filename = 'unsplash-25k-photos.zip'\n",
        "    if not os.path.exists(photo_filename):   #Download dataset if does not exist\n",
        "        util.http_get('http://sbert.net/datasets/'+photo_filename, photo_filename)\n",
        "        \n",
        "    #Extract all images\n",
        "    with zipfile.ZipFile(photo_filename, 'r') as zf:\n",
        "        for member in tqdm(zf.infolist(), desc='Extracting'):\n",
        "            zf.extract(member, img_folder)\n",
        "        "
      ],
      "id": "major-injury",
      "execution_count": null,
      "outputs": []
    },
    {
      "cell_type": "code",
      "metadata": {
        "id": "earned-mapping"
      },
      "source": [
        "# Now, we need to compute the embeddings\n",
        "# To speed things up, we destribute pre-computed embeddings\n",
        "# Otherwise you can also encode the images yourself.\n",
        "# To encode an image, you can use the following code:\n",
        "# from PIL import Image\n",
        "# img_emb = model.encode(Image.open(filepath))\n",
        "\n",
        "use_precomputed_embeddings = False\n",
        "\n",
        "if use_precomputed_embeddings: \n",
        "    emb_filename = 'unsplash-25k-photos-embeddings.pkl'\n",
        "    if not os.path.exists(emb_filename):   #Download dataset if does not exist\n",
        "        util.http_get('http://sbert.net/datasets/'+emb_filename, emb_filename)\n",
        "        \n",
        "    with open(emb_filename, 'rb') as fIn:\n",
        "        img_names, img_emb = pickle.load(fIn)  \n",
        "    print(\"Images:\", len(img_names))\n",
        "else:\n",
        "    img_names = list(glob.glob('photos/*.png'))\n",
        "    print(\"Images:\", len(img_names))\n",
        "    img_emb = model.encode([Image.open(filepath) for filepath in img_names], batch_size=128, convert_to_tensor=True, show_progress_bar=True)\n"
      ],
      "id": "earned-mapping",
      "execution_count": null,
      "outputs": []
    },
    {
      "cell_type": "code",
      "metadata": {
        "id": "equipped-script"
      },
      "source": [
        "# We have implemented our own, efficient method\n",
        "# to find high density regions in vector space\n",
        "def community_detection(embeddings, threshold, min_community_size=10, init_max_size=1000):\n",
        "    \"\"\"\n",
        "    Function for Fast Community Detection\n",
        "\n",
        "    Finds in the embeddings all communities, i.e. embeddings that are close (closer than threshold).\n",
        "\n",
        "    Returns only communities that are larger than min_community_size. The communities are returned\n",
        "    in decreasing order. The first element in each list is the central point in the community.\n",
        "    \"\"\"\n",
        "\n",
        "    # Compute cosine similarity scores\n",
        "    cos_scores = util.cos_sim(embeddings, embeddings)\n",
        "\n",
        "    # Minimum size for a community\n",
        "    top_k_values, _ = cos_scores.topk(k=min_community_size, largest=True)\n",
        "\n",
        "    # Filter for rows >= min_threshold\n",
        "    extracted_communities = []\n",
        "    for i in range(len(top_k_values)):\n",
        "        if top_k_values[i][-1] >= threshold:\n",
        "            new_cluster = []\n",
        "\n",
        "            # Only check top k most similar entries\n",
        "            top_val_large, top_idx_large = cos_scores[i].topk(k=init_max_size, largest=True)\n",
        "            top_idx_large = top_idx_large.tolist()\n",
        "            top_val_large = top_val_large.tolist()\n",
        "\n",
        "            if top_val_large[-1] < threshold:\n",
        "                for idx, val in zip(top_idx_large, top_val_large):\n",
        "                    if val < threshold:\n",
        "                        break\n",
        "\n",
        "                    new_cluster.append(idx)\n",
        "            else:\n",
        "                # Iterate over all entries (slow)\n",
        "                for idx, val in enumerate(cos_scores[i].tolist()):\n",
        "                    if val >= threshold:\n",
        "                        new_cluster.append(idx)\n",
        "\n",
        "            extracted_communities.append(new_cluster)\n",
        "\n",
        "    # Largest cluster first\n",
        "    extracted_communities = sorted(extracted_communities, key=lambda x: len(x), reverse=True)\n",
        "\n",
        "    # Step 2) Remove overlapping communities\n",
        "    unique_communities = []\n",
        "    extracted_ids = set()\n",
        "\n",
        "    for community in extracted_communities:\n",
        "        add_cluster = True\n",
        "        for idx in community:\n",
        "            if idx in extracted_ids:\n",
        "                add_cluster = False\n",
        "                break\n",
        "\n",
        "        if add_cluster:\n",
        "            unique_communities.append(community)\n",
        "            for idx in community:\n",
        "                extracted_ids.add(idx)\n",
        "\n",
        "    return unique_communities"
      ],
      "id": "equipped-script",
      "execution_count": null,
      "outputs": []
    },
    {
      "cell_type": "code",
      "metadata": {
        "id": "oriental-shower"
      },
      "source": [
        "# Now we run the clustering algorithm\n",
        "# With the threshold parameter, we define at which threshold we identify\n",
        "# two images as similar. Set the threshold lower, and you will get larger clusters which have \n",
        "# less similar images in it (e.g. black cat images vs. cat images vs. animal images).\n",
        "# With min_community_size, we define that we only want to have clusters of a certain minimal size\n",
        "clusters = community_detection(img_emb, threshold=0.9, min_community_size=10)\n",
        "print(\"Total number of clusters:\", len(clusters))"
      ],
      "id": "oriental-shower",
      "execution_count": null,
      "outputs": []
    },
    {
      "cell_type": "code",
      "metadata": {
        "id": "buried-botswana"
      },
      "source": [
        "# Now we output the first 10 (largest) clusters\n",
        "for cluster in clusters[0:10]:\n",
        "    print(\"\\n\\nCluster size:\", len(cluster))\n",
        "    \n",
        "    #Output 3 images\n",
        "    for idx in cluster[0:3]:\n",
        "        # print(img_names[idx])\n",
        "        display(IPImage(img_names[idx], width=200))\n",
        "        print(\"\")\n"
      ],
      "id": "buried-botswana",
      "execution_count": null,
      "outputs": []
    }
  ]
}