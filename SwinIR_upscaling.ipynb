{
  "cells": [
    {
      "cell_type": "markdown",
      "metadata": {
        "id": "view-in-github",
        "colab_type": "text"
      },
      "source": [
        "<a href=\"https://colab.research.google.com/github/MichaelPaulukonis/notebooks/blob/main/SwinIR_upscaling.ipynb\" target=\"_parent\"><img src=\"https://colab.research.google.com/assets/colab-badge.svg\" alt=\"Open In Colab\"/></a>"
      ]
    },
    {
      "cell_type": "markdown",
      "metadata": {
        "id": "IRDbDYYMQt_Y"
      },
      "source": [
        "# SwinIR Online Demo \n",
        "\n",
        "[![arXiv](https://img.shields.io/badge/arXiv-Paper-<COLOR>.svg)](https://arxiv.org/abs/2108.10257)\n",
        "[![GitHub Stars](https://img.shields.io/github/stars/JingyunLiang/SwinIR?style=social)](https://github.com/JingyunLiang/SwinIR)\n",
        "[![download](https://img.shields.io/github/downloads/JingyunLiang/SwinIR/total.svg)](https://github.com/JingyunLiang/SwinIR/releases)\n",
        "\n",
        "This is a modified notebook of the original. I am hoping to use it to batch-process images w/o the cruft of comparison versions.\n",
        "\n",
        "This is a **SwinIR online demo on Real-World Image SR** of our paper [''SwinIR: Image Restoration Using Swin Transformer''](https://arxiv.org/abs/2108.10257). \n",
        "\n",
        "SwinIR achieves state-of-the-art performance on six tasks: image super-resolution (including classical, lightweight and real-world image super-resolution), image denoising (including grayscale and color image denoising) and JPEG compression artifact reduction. See our [paper](https://arxiv.org/abs/2108.10257) and [project page](https://github.com/JingyunLiang/SwinIR) for detailed results. In particular, we train the real-world image SR model by using **the first practical degradation model [BSRGAN, ICCV2021](https://github.com/cszn/BSRGAN)**. We also refer to a recent model [Real-ESRGAN](https://arxiv.org/abs/2107.10833) for better loss function.\n",
        "\n",
        "<img src=\"https://raw.githubusercontent.com/JingyunLiang/SwinIR/main/figs/real_world_image_sr.png\" width=\"100%\">\n",
        "\n"
      ]
    },
    {
      "cell_type": "code",
      "execution_count": null,
      "metadata": {
        "id": "QP9XufMmYuc2"
      },
      "outputs": [],
      "source": [
        "#@title Save to Google Drive\n",
        "#@markdown Will periodically save your results to Google Drive under the folder [TBD]\n",
        "\n",
        "save_to_google_drive = True  #@param {type: \"boolean\"}\n",
        "download_zipfile = False  #@param {type: \"boolean\"}\n",
        "\n",
        "\n",
        "if save_to_google_drive:\n",
        "  from google.colab import drive\n",
        "  import time\n",
        "  \n",
        "  #@title Google Colab Google Drive Downloader Thing { vertical-output: true }\n",
        "  Target_Folder = \"/content/drive/MyDrive/colab_out/upscaled/\" #@param {type:\"string\"}\n",
        "\n",
        "  batch_prefix = \"fake.anatomy\" #@param {type:\"string\"}\n",
        "  Target_Folder += batch_prefix + \"/\"\n",
        "\n",
        "  drive.mount('/content/drive')\n",
        "  \n",
        "  !mkdir -p $Target_Folder"
      ]
    },
    {
      "cell_type": "markdown",
      "metadata": {
        "id": "6BPxh_VmVVIu"
      },
      "source": [
        "# 1. Preparations\n",
        "Before start, make sure that you choose\n",
        "* Runtime Type = Python 3\n",
        "* Hardware Accelerator = GPU\n",
        "* Broswer != Firefox (cannot upload images in step 2)\n",
        "\n",
        "in the **Runtime** menu -> **Change runtime type**\n",
        "\n",
        "Then, we clone the repository, set up the envrironment, and download the pre-trained model."
      ]
    },
    {
      "cell_type": "code",
      "execution_count": null,
      "metadata": {
        "id": "GnpnrLfMV2jU"
      },
      "outputs": [],
      "source": [
        "# Clone realESRGAN\n",
        "!git clone https://github.com/xinntao/Real-ESRGAN.git\n",
        "%cd Real-ESRGAN\n",
        "# Set up the environment\n",
        "!pip install basicsr\n",
        "!pip install facexlib\n",
        "!pip install gfpgan\n",
        "!pip install -r requirements.txt\n",
        "!python setup.py develop\n",
        "\n",
        "# Clone BSRGAN\n",
        "!git clone https://github.com/cszn/BSRGAN.git\n",
        "\n",
        "!rm -r SwinIR\n",
        "# Clone SwinIR\n",
        "!git clone https://github.com/JingyunLiang/SwinIR.git\n",
        "!pip install timm\n",
        "\n",
        "# Download the pre-trained models\n",
        "!wget https://github.com/cszn/KAIR/releases/download/v1.0/BSRGAN.pth -P BSRGAN/model_zoo\n",
        "!wget https://github.com/xinntao/Real-ESRGAN/releases/download/v0.1.0/RealESRGAN_x4plus.pth -P experiments/pretrained_models\n",
        "!wget https://github.com/JingyunLiang/SwinIR/releases/download/v0.0/003_realSR_BSRGAN_DFO_s64w8_SwinIR-M_x4_GAN.pth -P experiments/pretrained_models\n",
        "!wget https://github.com/JingyunLiang/SwinIR/releases/download/v0.0/003_realSR_BSRGAN_DFOWMFC_s64w8_SwinIR-L_x4_GAN.pth -P experiments/pretrained_models"
      ]
    },
    {
      "cell_type": "markdown",
      "metadata": {
        "id": "4pr9am3HWtvH"
      },
      "source": [
        "# 2. Upload Images\n",
        "\n",
        "Upload the images to be processed by SwinIR"
      ]
    },
    {
      "cell_type": "code",
      "execution_count": null,
      "metadata": {
        "id": "u1tiyMZJW5td"
      },
      "outputs": [],
      "source": [
        "import os\n",
        "import glob\n",
        "from google.colab import files\n",
        "import shutil\n",
        "print(' Note1: You can find an image on the web or download images from the RealSRSet (proposed in BSRGAN, ICCV2021) at https://github.com/JingyunLiang/SwinIR/releases/download/v0.0/RealSRSet+5images.zip.\\n Note2: You may need Chrome to enable file uploading!\\n Note3: If out-of-memory, set test_patch_wise = True.\\n')\n",
        "\n",
        "# test SwinIR by partioning the image into patches\n",
        "test_patch_wise = False\n",
        "\n",
        "# to be compatible with BSRGAN\n",
        "!rm -r BSRGAN/testsets/RealSRSet\n",
        "upload_folder = 'BSRGAN/testsets/RealSRSet'\n",
        "result_folder = 'results'\n",
        "\n",
        "if os.path.isdir(upload_folder):\n",
        "    shutil.rmtree(upload_folder)\n",
        "if os.path.isdir(result_folder):\n",
        "    shutil.rmtree(result_folder)\n",
        "os.mkdir(upload_folder)\n",
        "os.mkdir(result_folder)\n",
        "\n",
        "# upload images\n",
        "uploaded = files.upload()\n",
        "for filename in uploaded.keys():\n",
        "  dst_path = os.path.join(upload_folder, filename)\n",
        "  print(f'move {filename} to {dst_path}')\n",
        "  shutil.move(filename, dst_path)"
      ]
    },
    {
      "cell_type": "markdown",
      "metadata": {
        "id": "rqiEtaOYXnrt"
      },
      "source": [
        "# 3. Inference\n"
      ]
    },
    {
      "cell_type": "code",
      "execution_count": null,
      "metadata": {
        "id": "XTVL4m_zXqBU"
      },
      "outputs": [],
      "source": [
        "# SwinIR\n",
        "if test_patch_wise:\n",
        "  !python SwinIR/main_test_swinir.py --task real_sr --model_path experiments/pretrained_models/003_realSR_BSRGAN_DFO_s64w8_SwinIR-M_x4_GAN.pth --folder_lq BSRGAN/testsets/RealSRSet --scale 4 --tile 800\n",
        "else:\n",
        "  !python SwinIR/main_test_swinir.py --task real_sr --model_path experiments/pretrained_models/003_realSR_BSRGAN_DFO_s64w8_SwinIR-M_x4_GAN.pth --folder_lq BSRGAN/testsets/RealSRSet --scale 4\n",
        "shutil.move('results/swinir_real_sr_x4', 'results/SwinIR')\n",
        "\n",
        "# # SwinIR-Large\n",
        "# if test_patch_wise:\n",
        "#   !python SwinIR/main_test_swinir.py --task real_sr --model_path experiments/pretrained_models/003_realSR_BSRGAN_DFOWMFC_s64w8_SwinIR-L_x4_GAN.pth --folder_lq BSRGAN/testsets/RealSRSet --scale 4 --large_model --tile 640\n",
        "# else:\n",
        "#   !python SwinIR/main_test_swinir.py --task real_sr --model_path experiments/pretrained_models/003_realSR_BSRGAN_DFOWMFC_s64w8_SwinIR-L_x4_GAN.pth --folder_lq BSRGAN/testsets/RealSRSet --scale 4 --large_model\n",
        "# shutil.move('results/swinir_real_sr_x4_large', 'results/SwinIR_large')\n",
        "\n",
        "# for path in sorted(glob.glob(os.path.join('results/SwinIR_large', '*.png'))):\n",
        "#   os.rename(path, path.replace('SwinIR.png', 'SwinIR_large.png')) # here is a bug in Colab file downloading: no same-name files"
      ]
    },
    {
      "cell_type": "markdown",
      "metadata": {
        "id": "dUJ_0fQ5YYm2"
      },
      "source": [
        "# 4. Visualization"
      ]
    },
    {
      "cell_type": "code",
      "execution_count": null,
      "metadata": {
        "id": "7IMD5vhOYp68"
      },
      "outputs": [],
      "source": [
        "# utils for visualization\n",
        "import cv2\n",
        "import matplotlib.pyplot as plt\n",
        "\n",
        "def display(img1, img2):\n",
        "  total_figs = 3\n",
        "  fig = plt.figure(figsize=(total_figs*12, 14))\n",
        "  ax1 = fig.add_subplot(1, total_figs, 1) \n",
        "  plt.title('Input image', fontsize=30)\n",
        "  ax1.axis('off')\n",
        "\n",
        "  ax2 = fig.add_subplot(1, total_figs, 2)\n",
        "  plt.title('SwinIR (ours) output', fontsize=30)\n",
        "  ax2.axis('off')\n",
        "\n",
        "  ax1.imshow(img1)\n",
        "  ax2.imshow(img2['SwinIR'])\n",
        "\n",
        "def imread(img_path):\n",
        "  img = cv2.imread(img_path)\n",
        "  img = cv2.cvtColor(img, cv2.COLOR_BGR2RGB)\n",
        "  return img\n",
        "\n",
        "# display first image in the upload folder\n",
        "input_folder = upload_folder\n",
        "result_folder = 'results/SwinIR'\n",
        "input_list = sorted(glob.glob(os.path.join(input_folder, '*')))\n",
        "output_list = sorted(glob.glob(os.path.join(result_folder, '*')))\n",
        "# for input_path, output_path in zip(input_list, output_list):\n",
        "input_path = input_list[0]\n",
        "output_path = output_list[0]\n",
        "\n",
        "img_input = imread(input_path)\n",
        "img_output = {}\n",
        "img_output['SwinIR'] = imread(output_path)\n",
        "\n",
        "display(img_input, img_output)"
      ]
    },
    {
      "cell_type": "markdown",
      "metadata": {
        "id": "nKH0syu9ZAwV"
      },
      "source": [
        "# 5. Download Results\n"
      ]
    },
    {
      "cell_type": "code",
      "execution_count": null,
      "metadata": {
        "id": "lHNHoP8PZJQ7"
      },
      "outputs": [],
      "source": [
        "# Download and/or Save the results\n",
        "\n",
        "if save_to_google_drive:\n",
        "\n",
        "  result_folder = 'results/SwinIR'\n",
        "  output_list = sorted(glob.glob(os.path.join(result_folder, '*')))\n",
        "\n",
        "  for output_path in output_list:\n",
        "    outname = output_path.replace('results/SwinIR/', Target_Folder)\n",
        "    print(f\"copying {output_path} to {outname}\")\n",
        "    os.system(f\"cp {output_path} {outname}\")\n",
        "\n",
        "if download_zipfile:\n",
        "\n",
        "  zip_filename = 'SwinIR_result.zip'\n",
        "  if os.path.exists(zip_filename):\n",
        "    os.remove(zip_filename)\n",
        "  os.system(f\"zip -r -j {zip_filename} results/*\")\n",
        "  files.download(zip_filename)"
      ]
    }
  ],
  "metadata": {
    "accelerator": "GPU",
    "colab": {
      "collapsed_sections": [],
      "name": "SwinIR upscaling.ipynb",
      "provenance": [],
      "history_visible": true,
      "machine_shape": "hm",
      "include_colab_link": true
    },
    "kernelspec": {
      "display_name": "Python 3",
      "name": "python3"
    },
    "language_info": {
      "name": "python"
    },
    "gpuClass": "standard"
  },
  "nbformat": 4,
  "nbformat_minor": 0
}