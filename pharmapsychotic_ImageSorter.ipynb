{
  "cells": [
    {
      "cell_type": "markdown",
      "metadata": {
        "id": "view-in-github",
        "colab_type": "text"
      },
      "source": [
        "<a href=\"https://colab.research.google.com/github/MichaelPaulukonis/notebooks/blob/main/pharmapsychotic_ImageSorter.ipynb\" target=\"_parent\"><img src=\"https://colab.research.google.com/assets/colab-badge.svg\" alt=\"Open In Colab\"/></a>"
      ]
    },
    {
      "cell_type": "markdown",
      "metadata": {
        "id": "W5x7XXdIhxQD"
      },
      "source": [
        "# ImageSorter\n",
        "\n",
        "This notebook lets you sort a folder of images by perceptual similarity. Why would you want to do this? \n",
        "* Sort your StyleGAN seed images for smoother interpolation animations\n",
        "* Sort generative image variations then use FiLM for cool animations\n",
        "* Sort generative image variations then make into animated GIF\n",
        "* Sort images for a collection and look for dupes or ones too similar\n",
        "* Sort art work in a pleasing progression for a metaverse show\n",
        "* Sort things for fun because you're bored \n",
        "\n",
        "<br>\n",
        "\n",
        "Limitations:\n",
        "* If you have a ton of images you may run out of RAM or finding the optimal order may take a long time.\n",
        "\n",
        "<br>\n",
        "\n",
        "If you're looking for more Ai art tools check out my [Ai generative art tools list](https://pharmapsychotic.com/tools.html).\n"
      ]
    },
    {
      "cell_type": "code",
      "source": [
        "#@title Check GPU\n",
        "!nvidia-smi -L"
      ],
      "metadata": {
        "cellView": "form",
        "id": "cNgPQRyBBuQW",
        "outputId": "ef502fdf-000b-4d9e-833d-01b04f9f0c9c",
        "colab": {
          "base_uri": "https://localhost:8080/"
        }
      },
      "execution_count": 1,
      "outputs": [
        {
          "output_type": "stream",
          "name": "stdout",
          "text": [
            "GPU 0: Tesla P100-PCIE-16GB (UUID: GPU-3cac0ed3-9b85-8885-04a1-df69568c066f)\n"
          ]
        }
      ]
    },
    {
      "cell_type": "code",
      "source": [
        "#@title Mount Google Drive\n",
        "from google.colab import drive\n",
        "drive.mount('/content/gdrive')"
      ],
      "metadata": {
        "cellView": "form",
        "id": "H7cIqFjS9Xgu",
        "outputId": "b921e8e5-5095-4ee6-e23e-7293259bdb57",
        "colab": {
          "base_uri": "https://localhost:8080/"
        }
      },
      "execution_count": 2,
      "outputs": [
        {
          "output_type": "stream",
          "name": "stdout",
          "text": [
            "Mounted at /content/gdrive\n"
          ]
        }
      ]
    },
    {
      "cell_type": "code",
      "source": [
        "#@title Setup\n",
        "!pip install lpips -q\n",
        "!pip install python-tsp -q\n",
        "\n",
        "import lpips\n",
        "import numpy as np\n",
        "import os\n",
        "import PIL.Image\n",
        "import shutil\n",
        "import torch\n",
        "import torchvision.transforms.functional as TF\n",
        "from tqdm import tqdm\n",
        "from python_tsp.heuristics import solve_tsp_simulated_annealing\n",
        "\n",
        "def load_image(path, dims):\n",
        "    image = PIL.Image.open(path).convert(\"RGB\")\n",
        "    image = image.resize((dims, dims), PIL.Image.BILINEAR)\n",
        "    return TF.to_tensor(image).to(device).mul(2).sub(1)"
      ],
      "metadata": {
        "id": "5arJtHsF9ddd",
        "outputId": "8ec8fe1b-3186-4f75-8238-0800004756f4",
        "colab": {
          "base_uri": "https://localhost:8080/"
        }
      },
      "execution_count": 3,
      "outputs": [
        {
          "output_type": "stream",
          "name": "stdout",
          "text": [
            "\u001b[K     |████████████████████████████████| 53 kB 1.9 MB/s \n",
            "\u001b[K     |████████████████████████████████| 62 kB 1.3 MB/s \n",
            "\u001b[?25h"
          ]
        }
      ]
    },
    {
      "cell_type": "code",
      "source": [
        "#@title Let's sort some images!\n",
        "images_folder = \"/content/gdrive/MyDrive/Art general/FAKE_POPART_ANATOMY\" #@param {type:\"string\"}\n",
        "sorted_folder = \"/content/gdrive/MyDrive/Art general/anatomy_sorted\" #@param {type:\"string\"}\n",
        "perceptual_model = 'alex' #@param ['alex', 'squeeze', 'vgg']  \n",
        "max_sort_minutes = 5 #@param {type: \"integer\"}\n",
        "max_images = 300 #@param {type: \"integer\"}\n",
        "\n",
        "device = torch.device(f'cuda:0')\n",
        "lpips_model = lpips.LPIPS(net=perceptual_model).to(device)\n",
        "\n",
        "files = [file for file in os.listdir(images_folder) if os.path.splitext(file)[1] in ['.png', '.jpg', '.jpeg']]\n",
        "if not len(files):\n",
        "    raise Exception(f\"No image files found in {images_folder}\")\n",
        "\n",
        "gpu_images = []\n",
        "for file in tqdm(files, desc=\"Loading images\"):\n",
        "    gpu_images.append(load_image(os.path.join(images_folder, file), 128))\n",
        "\n",
        "image_count = min(max_images, len(gpu_images)) if max_images != -1 else len(gpu_images)\n",
        "\n",
        "indexes = [i for i in range(image_count)]\n",
        "distances = np.zeros((len(indexes), len(indexes)))\n",
        "for a in tqdm(range(len(indexes)), desc=\"Computing distances\"):\n",
        "    for b in range(a+1, len(indexes)):\n",
        "        diff = lpips_model(gpu_images[a], gpu_images[b])\n",
        "        distances[a][b] = diff\n",
        "        distances[b][a] = diff\n",
        "\n",
        "print(f\"Solving for optimal order using up to {max_sort_minutes} minutes...\")\n",
        "ordering, total_distance = solve_tsp_simulated_annealing(distances, max_processing_time=max_sort_minutes*60)\n",
        "\n",
        "print(f\"Saving in sorted order to {sorted_folder}...\")\n",
        "if not os.path.exists(sorted_folder):\n",
        "    os.makedirs(sorted_folder)\n",
        "for i in range(image_count):\n",
        "    file = files[ordering[i]] \n",
        "    base, ext = os.path.splitext(file)\n",
        "    dest = os.path.join(sorted_folder, f\"{i:04d}_{base}.{ext}\")\n",
        "    if os.path.exists(dest):\n",
        "        os.remove(dest)\n",
        "    shutil.copyfile(os.path.join(images_folder, file), dest)\n",
        "\n",
        "print(\"Sorted order:\")\n",
        "print([os.path.splitext(files[ordering[i]])[0] for i in range(len(ordering))])\n"
      ],
      "metadata": {
        "id": "WPnZwe9-Bymt",
        "outputId": "da93aa94-c0b1-423a-aedb-6d51a4fe0f86",
        "colab": {
          "base_uri": "https://localhost:8080/"
        }
      },
      "execution_count": 8,
      "outputs": [
        {
          "output_type": "stream",
          "name": "stdout",
          "text": [
            "Saving in sorted order to /content/gdrive/MyDrive/Art general/anatomy_sorted...\n",
            "Sorted order:\n",
            "['tile.00.1145', 'tile.00.1221', 'tile.00.264', 'tile.00.266', 'tile.00.261', 'tile.00.263', 'tile.00.061', 'tile.00.063', 'tile.00.064', 'tile.00.272', 'tile.00.303', 'tile.00.306', 'tile.00.844', 'tile.00.288', 'tile.00.301', 'tile.00.299', 'tile.00.317', 'tile.00.1157', 'tile.00.1153', 'tile.00.1168', 'tile.00.869', 'tile.00.881', 'tile.00.930', 'tile.00.926', 'tile.00.1178', 'tile.00.1019', 'tile.00.1026', 'tile.00.1196', 'tile.00.738', 'tile.00.729', 'tile.00.739', 'tile.00.688', 'tile.00.674', 'tile.00.672', 'tile.00.676', 'tile.00.1169', 'tile.00.854', 'tile.00.895', 'tile.00.853', 'tile.00.897', 'tile.00.715', 'tile.00.846', 'tile.00.883', 'tile.00.879', 'tile.00.262', 'tile.00.671', 'tile.00.677', 'tile.00.705', 'tile.00.701', 'tile.00.667', 'tile.00.1143', 'tile.00.1231', 'tile.00.1208', 'tile.00.1021', 'tile.00.919', 'tile.00.505', 'tile.00.528', 'tile.00.1008', 'tile.00.1024', 'tile.00.1025', 'tile.00.1035', 'tile.00.1030', 'tile.00.1219', 'tile.00.711', 'tile.00.918', 'tile.00.921', 'tile.00.932', 'tile.00.931', 'tile.00.933', 'tile.00.935', 'tile.00.880', 'tile.00.843', 'tile.00.886', 'tile.00.884', 'tile.00.909', 'tile.00.924', 'tile.00.920', 'tile.00.665', 'tile.00.670', 'tile.00.1018', 'tile.00.937', 'tile.00.934', 'tile.00.1220', 'tile.00.1224', 'tile.00.1194', 'tile.00.1183', 'tile.00.1150', 'tile.00.1232', 'tile.00.1195', 'tile.00.298', 'tile.00.1191', 'tile.00.304', 'tile.00.099', 'tile.00.313', 'tile.00.274', 'tile.00.1222', 'tile.00.275', 'tile.00.060', 'tile.00.305', 'tile.00.328', 'tile.00.111', 'tile.00.102', 'tile.00.104', 'tile.00.098', 'tile.00.089', 'tile.00.073', 'tile.00.302', 'tile.00.1142', 'tile.00.1192', 'tile.00.1151', 'tile.00.878', 'tile.00.852', 'tile.00.049', 'tile.00.1181', 'tile.00.1146', 'tile.00.539', 'tile.00.908', 'tile.00.1023', 'tile.00.706', 'tile.00.702', 'tile.00.699', 'tile.00.707', 'tile.00.663', 'tile.00.662', 'tile.00.648', 'tile.00.698', 'tile.00.925', 'tile.00.922', 'tile.00.841', 'tile.00.1152', 'tile.00.1154', 'tile.00.857', 'tile.00.1186', 'tile.00.1185', 'tile.00.1184', 'tile.00.1187', 'tile.00.1180', 'tile.00.267', 'tile.00.1234', 'tile.00.1233', 'tile.00.072', 'tile.00.314', 'tile.00.271', 'tile.00.300', 'tile.00.116', 'tile.00.329', 'tile.00.310', 'tile.00.258', 'tile.00.065', 'tile.00.062', 'tile.00.260', 'tile.00.265', 'tile.00.076', 'tile.00.103', 'tile.00.074', 'tile.00.117', 'tile.00.1230', 'tile.00.113', 'tile.00.1235', 'tile.00.1226', 'tile.00.890', 'tile.00.894', 'tile.00.868', 'tile.00.664', 'tile.00.660', 'tile.00.703', 'tile.00.661', 'tile.00.075', 'tile.00.066', 'tile.00.316', 'tile.00.1147', 'tile.00.1033', 'tile.00.1031', 'tile.00.675', 'tile.00.666', 'tile.00.700', 'tile.00.927', 'tile.00.896', 'tile.00.847', 'tile.00.850', 'tile.00.893', 'tile.00.887', 'tile.00.892', 'tile.00.891', 'tile.00.1236', 'tile.00.1197', 'tile.00.1193', 'tile.00.1223', 'tile.00.1218', 'tile.00.058', 'tile.00.1027', 'tile.00.1032', 'tile.00.1037', 'tile.00.1020', 'tile.00.1156', 'tile.00.1179', 'tile.00.1140', 'tile.00.511', 'tile.00.512', 'tile.00.489', 'tile.00.470', 'tile.00.466', 'tile.00.506', 'tile.00.515', 'tile.00.449', 'tile.00.510', 'tile.00.516', 'tile.00.461', 'tile.00.504', 'tile.00.514', 'tile.00.500', 'tile.00.448', 'tile.00.476', 'tile.00.507', 'tile.00.529', 'tile.00.502', 'tile.00.472', 'tile.00.477', 'tile.00.488', 'tile.00.460', 'tile.00.467', 'tile.00.462', 'tile.00.473', 'tile.00.471', 'tile.00.513', 'tile.00.501', 'tile.00.459', 'tile.00.498', 'tile.00.499', 'tile.00.503', 'tile.00.475', 'tile.00.517', 'tile.00.458', 'tile.00.474', 'tile.00.464', 'tile.00.465', 'tile.00.463', 'tile.00.885', 'tile.00.1155', 'tile.00.882', 'tile.00.1034', 'tile.00.538', 'tile.00.1022', 'tile.00.1227', 'tile.00.1190', 'tile.00.704', 'tile.00.710', 'tile.00.673', 'tile.00.658', 'tile.00.716', 'tile.00.713', 'tile.00.712', 'tile.00.717', 'tile.00.714', 'tile.00.728', 'tile.00.1009', 'tile.00.923', 'tile.00.936', 'tile.00.1209', 'tile.00.115', 'tile.00.077', 'tile.00.1141', 'tile.00.259', 'tile.00.339', 'tile.00.277', 'tile.00.105', 'tile.00.129', 'tile.00.088', 'tile.00.048', 'tile.00.100', 'tile.00.106', 'tile.00.289', 'tile.00.856', 'tile.00.1036', 'tile.00.649', 'tile.00.659', 'tile.00.1225', 'tile.00.842', 'tile.00.823', 'tile.00.840', 'tile.00.071', 'tile.00.273', 'tile.00.110', 'tile.00.114', 'tile.00.107', 'tile.00.128', 'tile.00.101', 'tile.00.112', 'tile.00.276', 'tile.00.315', 'tile.00.067', 'tile.00.070', 'tile.00.059', 'tile.00.270', 'tile.00.338', 'tile.00.312', 'tile.00.307', 'tile.00.311', 'tile.00.1237', 'tile.00.1144']\n"
          ]
        }
      ]
    }
  ],
  "metadata": {
    "accelerator": "GPU",
    "colab": {
      "collapsed_sections": [],
      "name": "pharmapsychotic ImageSorter",
      "provenance": [],
      "include_colab_link": true
    },
    "kernelspec": {
      "display_name": "Python 3",
      "name": "python3"
    },
    "language_info": {
      "name": "python"
    }
  },
  "nbformat": 4,
  "nbformat_minor": 0
}